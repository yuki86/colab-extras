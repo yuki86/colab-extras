{
  "nbformat": 4,
  "nbformat_minor": 0,
  "metadata": {
    "colab": {
      "name": "exer1-ganaka.ipynb",
      "provenance": [],
      "authorship_tag": "ABX9TyOlBXDuAL0mFvXmGNex+Dau",
      "include_colab_link": true
    },
    "kernelspec": {
      "name": "python3",
      "display_name": "Python 3"
    }
  },
  "cells": [
    {
      "cell_type": "markdown",
      "metadata": {
        "id": "view-in-github",
        "colab_type": "text"
      },
      "source": [
        "<a href=\"https://colab.research.google.com/github/yuki86/colab-extras/blob/master/exer1_ganaka.ipynb\" target=\"_parent\"><img src=\"https://colab.research.google.com/assets/colab-badge.svg\" alt=\"Open In Colab\"/></a>"
      ]
    },
    {
      "cell_type": "code",
      "metadata": {
        "id": "okrtW1HlIWg8"
      },
      "source": [
        "import cv2\n",
        "from google.colab.patches import cv2_imshow\n",
        "import numpy as np\n",
        "import random\n",
        "\n",
        "amostras = 8000\n",
        "altura = 100\n",
        "largura = 100\n",
        "tamanho = altura * largura\n",
        "\n",
        "f = open(\"dataset_at1.csv\", \"w\")\n",
        "data = \"\"\n",
        "for py in range(0,altura):\n",
        "  for px in range(0, largura):\n",
        "    data = data + \"P\"+str(py)+str(px)+\",\"\n",
        "data = data + \"Saida\\n\"\n",
        "f.write( data )\n",
        "\n",
        "for amostra in range(0,amostras):\n",
        "  img = np.zeros([altura,largura,3])\n",
        "  for py in range(0,altura):\n",
        "    for px in range(0, largura):\n",
        "      img[px][py][0] = 255   # cor azul\n",
        "      img[px][py][1] = 255   # cor verde\n",
        "      img[px][py][2] = 255   # cor vermelho\n",
        "\n",
        "  lado = random.randint(20, altura)\n",
        "  x_min = random.randint(0, largura - lado) \n",
        "  y_min = random.randint(0, altura - lado) \n",
        "  \n",
        "  #cv2.rectangle(img,(x_min, y_min),(x_min+lado,y_min+lado),(0,0,0),-1)\n",
        "  poligono_pts=np.array([[x_min, y_min],[x_min+lado,y_min],[x_min+lado,y_min+lado],[x_min,y_min+lado],[x_min, y_min]])\n",
        "  cv2.polylines(img,[poligono_pts],True,(0,0,0),1)\n",
        "  #cv2_imshow(img)\n",
        "   \n",
        "\n",
        "  data = \"\"\n",
        "  for py in range(0,altura):\n",
        "    for px in range(0, largura):\n",
        "     data = data + str(int(img[px][py][0]))+\",\"\n",
        "  data = data + \"0\\n\"\n",
        "\n",
        "  f.write(data)\n",
        "\n",
        "for amostra in range(0,amostras):\n",
        "  img = np.zeros([altura,largura,3])\n",
        "  for py in range(0,altura):\n",
        "    for px in range(0, largura):\n",
        "      img[px][py][0] = 255   # cor azul\n",
        "      img[px][py][1] = 255   # cor verde\n",
        "      img[px][py][2] = 255   # cor vermelho\n",
        "\n",
        "  centro_px = random.randint(20,(largura-20))\n",
        "  centro_py = random.randint(20,(altura-20))\n",
        "\n",
        "  distx = largura - centro_px\n",
        "  disty = altura - centro_py\n",
        "\n",
        "  D = [centro_px,centro_py,distx,disty]\n",
        "  #print(D)\n",
        "  #print(min(D))\n",
        "\n",
        "  raio = random.randint(0,(min(D)))\n",
        "  #print(raio)\n",
        "\n",
        "  cv2.circle(img, (centro_px,centro_py), raio, (0, 0, 0), 1)  #cria um circulo (centro), raio, (corRGB), espessura\n",
        "  #cv2_imshow(img)\n",
        "\n",
        "  data = \"\"\n",
        "  for py in range(0,altura):\n",
        "    for px in range(0, largura):\n",
        "      data = data + str(int(img[px][py][0]))+\",\"\n",
        "  data = data + \"1\\n\"\n",
        "\n",
        "  f.write(data)\n",
        "\n",
        "for amostra in range(0,amostras):\n",
        "  img = np.zeros([altura,largura,3])\n",
        "  for py in range(0,altura):\n",
        "    for px in range(0, largura):\n",
        "      img[px][py][0] = 255   # cor azul\n",
        "      img[px][py][1] = 255   # cor verde\n",
        "      img[px][py][2] = 255   # cor vermelho\n",
        "\n",
        "  pt1_x = random.randint(0,largura)\n",
        "  pt1_y = random.randint(0,altura)\n",
        "  pt2_x = random.randint(0,largura)\n",
        "  pt2_y = random.randint(0,altura)\n",
        "  pt3_x = random.randint(0,largura)\n",
        "  pt3_y = random.randint(0,altura)\n",
        "\n",
        "\n",
        "  pts = np.array([[pt1_x,pt1_y],[pt2_x,pt2_y],[pt3_x,pt3_y]], np.int32)\n",
        "  #pts = pts.reshape((-1,1,2))\n",
        "  cv2.polylines(img,[pts],True,(0,0,0),1)\n",
        "  #cv2_imshow(img)\n",
        "  \n",
        "  data = \"\"\n",
        "  for py in range(0,altura):\n",
        "    for px in range(0, largura):\n",
        "      data = data + str(int(img[px][py][0]))+\",\"\n",
        "  data = data + \"2\\n\"\n",
        "\n",
        "  f.write(data)\n",
        "\n",
        "\n",
        "f.close()"
      ],
      "execution_count": 4,
      "outputs": []
    },
    {
      "cell_type": "code",
      "metadata": {
        "id": "p7oApIMbIZYt"
      },
      "source": [
        "import pandas as pd\n",
        "\n",
        "dados = pd.read_csv(\"dataset_at1.csv\")\n",
        "dados.head()\n",
        "\n",
        "dados_entrada = dados.drop(\"Saida\", axis=1)\n",
        "dados_saida = dados[\"Saida\"]"
      ],
      "execution_count": 5,
      "outputs": []
    },
    {
      "cell_type": "code",
      "metadata": {
        "id": "Tn6VVaQCIbDF"
      },
      "source": [
        "from sklearn.model_selection import train_test_split\n",
        "\n",
        "dados_entrada_treino, dados_entrada_teste, dados_saida_treino,dados_saida_teste = train_test_split(dados_entrada, dados_saida, test_size=0.3,random_state = 42, shuffle=True)\n"
      ],
      "execution_count": null,
      "outputs": []
    },
    {
      "cell_type": "code",
      "metadata": {
        "id": "J9cFQzAaIcr0"
      },
      "source": [
        "#Normalizacao dos dados\n",
        "from sklearn.preprocessing import StandardScaler\n",
        "\n",
        "normaliza = StandardScaler()\n",
        "\n",
        "normaliza = normaliza.fit(dados_entrada_treino)\n",
        "\n",
        "dados_entrada_treino = normaliza.transform(dados_entrada_treino)\n",
        "\n",
        "dados_entrada_teste = normaliza.transform(dados_entrada_teste)"
      ],
      "execution_count": null,
      "outputs": []
    },
    {
      "cell_type": "code",
      "metadata": {
        "id": "QerDHIsUIgbd"
      },
      "source": [
        "from sklearn.neural_network import MLPClassifier\n",
        "\n",
        "clf = MLPClassifier(activation='logistic', solver='lbfgs', max_iter = 2500)\n",
        "clf = clf.fit(dados_entrada_treino, dados_saida_treino)"
      ],
      "execution_count": null,
      "outputs": []
    },
    {
      "cell_type": "code",
      "metadata": {
        "id": "AmfhsCIHIh-N"
      },
      "source": [
        "calculado = clf.predict(dados_entrada_teste)\n",
        "real = dados_saida_teste.values\n",
        "print(\"Calculado: \",calculado[0:5])\n",
        "print(\"Saida: \",real[0:5])"
      ],
      "execution_count": null,
      "outputs": []
    },
    {
      "cell_type": "code",
      "metadata": {
        "id": "EdMIZV1MIjgN"
      },
      "source": [
        "from sklearn.metrics import accuracy_score\n",
        "\n",
        "calculado = clf.predict(dados_entrada_teste)\n",
        "real = dados_saida_teste.values\n",
        "\n",
        "print(\"Calculado: \",calculado[0:5])\n",
        "print(\"Saida: \",real[0:5])\n",
        "\n",
        "print (accuracy_score(real, calculado))"
      ],
      "execution_count": null,
      "outputs": []
    },
    {
      "cell_type": "code",
      "metadata": {
        "id": "n0dUTXwUIlJk"
      },
      "source": [
        "img = np.zeros([altura,largura,3])\n",
        "for py in range(0,altura):\n",
        "  for px in range(0, largura):\n",
        "    img[px][py][0] = 255   # cor azul\n",
        "    img[px][py][1] = 255   # cor verde\n",
        "    img[px][py][2] = 255   # cor vermelho\n",
        "\n",
        "lado = random.randint(20, altura)\n",
        "x_min = random.randint(0, largura - lado) \n",
        "y_min = random.randint(0, altura - lado) \n",
        "\n",
        "#cv2.rectangle(img,(x_min, y_min),(x_min+lado,y_min+lado),(0,0,0),1)\n",
        "\n",
        "centro_px = random.randint(20,(largura-20))\n",
        "centro_py = random.randint(20,(altura-20))\n",
        "distx = largura - centro_px\n",
        "disty = altura - centro_py\n",
        "D = [centro_px,centro_py,distx,disty]\n",
        "raio = random.randint(0,(min(D)))\n",
        "\n",
        "cv2.circle(img, (centro_px,centro_py), raio, (0, 0, 0), 1)\n",
        "\n",
        "pt1_x = random.randint(0,largura)\n",
        "pt1_y = random.randint(0,altura)\n",
        "pt2_x = random.randint(0,largura)\n",
        "pt2_y = random.randint(0,altura)\n",
        "pt3_x = random.randint(0,largura)\n",
        "pt3_y = random.randint(0,altura)\n",
        "\n",
        "pts = np.array([[pt1_x,pt1_y],[pt2_x,pt2_y],[pt3_x,pt3_y]], np.int32)\n",
        "#cv2.polylines(img,[pts],True,(0,0,0),1)\n",
        "\n",
        "\n",
        "cv2_imshow(img)\n",
        "\n",
        "x=np.zeros([1,(tamanho)])\n",
        "\n",
        "for py in range(0,altura):\n",
        "  for px in range(0,largura):\n",
        "    for i in range(0,(tamanho)):\n",
        "      x[0,i]= (img[px][py][0])\n",
        "\n",
        "\n",
        "normaliza = StandardScaler()\n",
        "\n",
        "normaliza = normaliza.fit(x)\n",
        "\n",
        "X = normaliza.transform(x)\n",
        "\n",
        "calculado = clf.predict(X)\n",
        "\n",
        "if calculado[0] == 0:\n",
        "  print('quadrilatero')\n",
        "elif calculado[0] == 1:\n",
        "  print('circulo')\n",
        "else:\n",
        "  print('triangulo')"
      ],
      "execution_count": null,
      "outputs": []
    }
  ]
}