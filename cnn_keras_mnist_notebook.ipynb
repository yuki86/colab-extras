{
  "nbformat": 4,
  "nbformat_minor": 0,
  "metadata": {
    "colab": {
      "name": "cnn-keras-mnist-notebook.ipynb",
      "provenance": [],
      "collapsed_sections": [],
      "include_colab_link": true
    },
    "kernelspec": {
      "name": "python3",
      "display_name": "Python 3"
    },
    "accelerator": "GPU"
  },
  "cells": [
    {
      "cell_type": "markdown",
      "metadata": {
        "id": "view-in-github",
        "colab_type": "text"
      },
      "source": [
        "<a href=\"https://colab.research.google.com/github/yuki86/colab-extras/blob/master/cnn_keras_mnist_notebook.ipynb\" target=\"_parent\"><img src=\"https://colab.research.google.com/assets/colab-badge.svg\" alt=\"Open In Colab\"/></a>"
      ]
    },
    {
      "cell_type": "code",
      "metadata": {
        "id": "HcsvvWE4kNsY"
      },
      "source": [
        "import tensorflow as tf\n",
        "from keras.datasets import mnist\n",
        "from keras.models import Sequential\n",
        "from keras.layers import Dense\n",
        "from keras.layers import Dropout\n",
        "from keras.layers import Flatten\n",
        "from keras.layers.convolutional import Conv2D\n",
        "from keras.layers.convolutional import MaxPooling2D\n",
        "import numpy as np\n",
        "from matplotlib import pyplot as plt\n",
        "from keras.utils import np_utils\n",
        "import cv2\n",
        "import os\n",
        "\n",
        "from keras import backend as K\n",
        "\n",
        "#K.tensorflow_backend.set_image_dim_ordering('th')\n",
        "K.set_image_data_format('channels_first')\n",
        "\n",
        "%matplotlib inline\n",
        "\n",
        "seed = 7\n",
        "np.random.seed(seed)"
      ],
      "execution_count": 16,
      "outputs": []
    },
    {
      "cell_type": "code",
      "metadata": {
        "id": "u9dn83SmmFo4"
      },
      "source": [
        "def get_available_gpus():\n",
        "    if K.tensorflow_backend._LOCAL_DEVICES is None:\n",
        "        devices = tf.config.list_logical_devices()\n",
        "        K.tensorflow_backend._LOCAL_DEVICES = [x.name for x in devices]\n",
        "    return [x for x in K.tensorflow_backend._LOCAL_DEVICES if 'device:gpu' in x.lower()]\n",
        "\n",
        "def load_data():\n",
        "    (x_train, y_train), (x_test, y_test) = mnist.load_data()\n",
        "\n",
        "    x_train = x_train.reshape(x_train.shape[0], 1, 28, 28).astype('float32')\n",
        "\n",
        "    x_test = x_test.reshape(x_test.shape[0], 1, 28, 28).astype('float32')\n",
        "\n",
        "    x_train = x_train / 255\n",
        "    x_test = x_test / 255\n",
        "\n",
        "    y_train = np_utils.to_categorical(y_train)\n",
        "    y_test = np_utils.to_categorical(y_test)\n",
        "    \n",
        "    return x_train, y_train, x_test, y_test"
      ],
      "execution_count": 17,
      "outputs": []
    },
    {
      "cell_type": "code",
      "metadata": {
        "id": "MWfftoRZmaDz"
      },
      "source": [
        "x_train, y_train, x_test, y_test = load_data()\n",
        "num_classes = y_test.shape[1]\n",
        "\n",
        "# O model será exportado para este arquivo\n",
        "filename='mnistneuralnet.h5'\n",
        "\n",
        "\n",
        "def model():\n",
        "    model = Sequential()\n",
        "\n",
        "    model.add(Conv2D(30, (5, 5), input_shape=(1, 28, 28), activation='relu'))\n",
        "\n",
        "    model.add(MaxPooling2D(pool_size=(2, 2)))\n",
        "\n",
        "    model.add(Conv2D(15, (3, 3), input_shape=(1, 28, 28), activation='relu'))\n",
        "\n",
        "    model.add(MaxPooling2D(pool_size=(2, 2)))\n",
        "\n",
        "    model.add(Dropout(0.2))\n",
        "\n",
        "    model.add(Flatten())\n",
        "\n",
        "    model.add(Dense(128, activation='relu'))\n",
        "\n",
        "    model.add(Dense(64, activation='relu'))\n",
        "\n",
        "    model.add(Dense(32, activation='relu'))\n",
        "\n",
        "    model.add(Dense(num_classes, activation='softmax', name='predict'))\n",
        "\n",
        "    model.compile(loss='categorical_crossentropy', optimizer='adam', metrics=['accuracy'])\n",
        "    \n",
        "    return model"
      ],
      "execution_count": 18,
      "outputs": []
    },
    {
      "cell_type": "code",
      "metadata": {
        "id": "NCeeyXKHdxN-"
      },
      "source": [
        ""
      ],
      "execution_count": null,
      "outputs": []
    },
    {
      "cell_type": "code",
      "metadata": {
        "id": "Ynxq0fXEmn3v",
        "outputId": "bb2176ef-58c7-4add-9892-f05ba8e87f56",
        "colab": {
          "base_uri": "https://localhost:8080/"
        }
      },
      "source": [
        "K.backend._get_available_gpus = get_available_gpus\n",
        "model = model()\n",
        "model.summary()\n",
        "\n",
        "# Verifica se já existe um modelo treinado e exportado para um arquivo .h5.\n",
        "# Um novo modelo será treinado, caso este arquivo não exista.\n",
        "if not os.path.exists('./{}'.format(filename) ):\n",
        "    model.fit(x_train, y_train, validation_data=(x_test, y_test), epochs=10, batch_size=200)\n",
        "    model.save_weights(filename)\n",
        "else:\n",
        "    # carrega um modelo previamente treinado\n",
        "    model.load_weights('./{}'.format(filename) )"
      ],
      "execution_count": 19,
      "outputs": [
        {
          "output_type": "stream",
          "text": [
            "Model: \"sequential_1\"\n",
            "_________________________________________________________________\n",
            "Layer (type)                 Output Shape              Param #   \n",
            "=================================================================\n",
            "conv2d_2 (Conv2D)            (None, 30, 24, 24)        780       \n",
            "_________________________________________________________________\n",
            "max_pooling2d_2 (MaxPooling2 (None, 30, 12, 12)        0         \n",
            "_________________________________________________________________\n",
            "conv2d_3 (Conv2D)            (None, 15, 10, 10)        4065      \n",
            "_________________________________________________________________\n",
            "max_pooling2d_3 (MaxPooling2 (None, 15, 5, 5)          0         \n",
            "_________________________________________________________________\n",
            "dropout_1 (Dropout)          (None, 15, 5, 5)          0         \n",
            "_________________________________________________________________\n",
            "flatten_1 (Flatten)          (None, 375)               0         \n",
            "_________________________________________________________________\n",
            "dense_3 (Dense)              (None, 128)               48128     \n",
            "_________________________________________________________________\n",
            "dense_4 (Dense)              (None, 64)                8256      \n",
            "_________________________________________________________________\n",
            "dense_5 (Dense)              (None, 32)                2080      \n",
            "_________________________________________________________________\n",
            "predict (Dense)              (None, 10)                330       \n",
            "=================================================================\n",
            "Total params: 63,639\n",
            "Trainable params: 63,639\n",
            "Non-trainable params: 0\n",
            "_________________________________________________________________\n"
          ],
          "name": "stdout"
        }
      ]
    },
    {
      "cell_type": "code",
      "metadata": {
        "id": "kp2wR1gnn7kG",
        "outputId": "c0cbd274-fd45-42ed-e1e3-faa69f3dc876",
        "colab": {
          "base_uri": "https://localhost:8080/"
        }
      },
      "source": [
        "scores = model.evaluate(x_test, y_test, verbose=0)\n",
        "print(\"\\nacc: %.2f%%\" % (scores[1]*100))"
      ],
      "execution_count": 20,
      "outputs": [
        {
          "output_type": "stream",
          "text": [
            "\n",
            "acc: 99.00%\n"
          ],
          "name": "stdout"
        }
      ]
    },
    {
      "cell_type": "code",
      "metadata": {
        "id": "3_w7_5A1nBRH",
        "outputId": "c3952685-0b35-4c85-fc2b-b517c4ad9ebb",
        "colab": {
          "base_uri": "https://localhost:8080/",
          "height": 286
        }
      },
      "source": [
        "img_pred = cv2.imread(\"complex.png\", 0)\n",
        "plt.imshow(img_pred, cmap='gray')\n",
        "\n",
        "if img_pred.shape != [28,28]:\n",
        "    img2 = cv2.resize(img_pred, (28, 28))\n",
        "    img_pred = img2.reshape(28, 28, -1)\n",
        "else:\n",
        "    img_pred = img_pred.reshape(28, 28, -1)\n",
        "\n",
        "\n",
        "img_pred = img_pred.reshape(1, 1, 28, 28).astype('float32')\n",
        "\n",
        "img_pred = img_pred/255.0\n",
        "\n",
        "\n",
        "\n",
        "pred = model.predict_classes(img_pred)\n",
        "pred_proba = model.predict_proba(img_pred)\n",
        "pred_proba = \"%.2f%%\" % (pred_proba[0][pred]*100)\n",
        "print(pred[0], \" com confiança de \", pred_proba)\n"
      ],
      "execution_count": 21,
      "outputs": [
        {
          "output_type": "stream",
          "text": [
            "8  com confiança de  53.64%\n"
          ],
          "name": "stdout"
        },
        {
          "output_type": "display_data",
          "data": {
            "image/png": "[encoded data removed]",
            "text/plain": [
              "<Figure size 432x288 with 1 Axes>"
            ]
          },
          "metadata": {
            "tags": [],
            "needs_background": "light"
          }
        }
      ]
    },
    {
      "cell_type": "code",
      "metadata": {
        "id": "KFzZE77Whprx"
      },
      "source": [
        ""
      ],
      "execution_count": null,
      "outputs": []
    }
  ]
}