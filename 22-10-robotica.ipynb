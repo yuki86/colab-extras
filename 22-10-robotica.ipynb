{
  "nbformat": 4,
  "nbformat_minor": 0,
  "metadata": {
    "colab": {
      "name": "Untitled8.ipynb",
      "provenance": [],
      "authorship_tag": "ABX9TyPM8B7A6+HqOR3da+KgYCmx",
      "include_colab_link": true
    },
    "kernelspec": {
      "name": "python3",
      "display_name": "Python 3"
    }
  },
  "cells": [
    {
      "cell_type": "markdown",
      "metadata": {
        "id": "view-in-github",
        "colab_type": "text"
      },
      "source": [
        "<a href=\"https://colab.research.google.com/github/yuki86/colab-extras/blob/master/22-10-robotica.ipynb\" target=\"_parent\"><img src=\"https://colab.research.google.com/assets/colab-badge.svg\" alt=\"Open In Colab\"/></a>"
      ]
    },
    {
      "cell_type": "markdown",
      "metadata": {
        "id": "ZAKb1NZo6EVp"
      },
      "source": [
        "# Criar dados de amostra"
      ]
    },
    {
      "cell_type": "code",
      "metadata": {
        "id": "Rx6pPWEs2M6F"
      },
      "source": [
        "#criar dados de aprendizado\n",
        "\n",
        "import numpy as np\n",
        "import matplotlib.pyplot as plt\n",
        "import csv\n",
        "import random\n",
        "qtde=1000\n",
        "\n",
        "VHmin=3.0\n",
        "VLmax=1.0\n",
        "\n",
        "dados=np.zeros([qtde,3])\n",
        "\n",
        "for index in range(0,qtde-1):\n",
        "  A_LOW=random.uniform(0.0,VLmax)\n",
        "  A_HIGH=random.uniform(VHmin,5.0)\n",
        "  B_LOW=random.uniform(0.0,VLmax)\n",
        "  B_HIGH=random.uniform(VHmin,5.0)\n",
        "  valor=random.randint(0,3)\n",
        "  if (valor==0):\n",
        "    dados[index,0]=A_LOW\n",
        "    dados[index,1]=B_LOW\n",
        "    dados[index,2]=0\n",
        "  elif (valor==1):\n",
        "    dados[index,0]=A_LOW\n",
        "    dados[index,1]=B_HIGH\n",
        "    dados[index,2]=1\n",
        "  elif (valor==2):\n",
        "    dados[index,0]=A_HIGH\n",
        "    dados[index,1]=B_LOW\n",
        "    dados[index,2]=1\n",
        "  else (valor==2):\n",
        "    dados[index,0]=A_HIGH\n",
        "    dados[index,1]=B_HIGH\n",
        "    dados[index,2]=0\n",
        "\n",
        "f=open('dataset.csv','w',newline='')\n",
        "with f:\n",
        "  writer=csv,writer(f)\n",
        "  row=[\"A\",\"B\",\"Saida\"]\n",
        "  writer.writerow(row)\n",
        "  for index in range(0,qtde):\n",
        "      row=dados[index]\n",
        "      writer.writerow(row)"
      ],
      "execution_count": null,
      "outputs": []
    },
    {
      "cell_type": "markdown",
      "metadata": {
        "id": "FAlFrOR46N-B"
      },
      "source": [
        "# Ler dados de amostra"
      ]
    },
    {
      "cell_type": "code",
      "metadata": {
        "id": "IH_wiOMB6Rhx"
      },
      "source": [
        "import pandas as pd\n",
        "dados=pd.read_csv(\"dataset.csv\")\n",
        "dados.head()\n",
        "\n",
        "dados_entrada=dados.drop(\"Saida\",axis=1)\n",
        "dados_saida=dados[\"Saida\"]"
      ],
      "execution_count": null,
      "outputs": []
    },
    {
      "cell_type": "markdown",
      "metadata": {
        "id": "2MXqX_Z26sZC"
      },
      "source": [
        "# Divisão de dados"
      ]
    },
    {
      "cell_type": "code",
      "metadata": {
        "id": "XTDD56o36vDj"
      },
      "source": [
        "from sklearn.model_selection import train_test_split\n",
        "\n",
        "dados_entrada_treino, dados_entrada_teste, dados_saida_treino, dados_saida_teste = train_test_split(dados_entrada,dados_saida,test_size=0.3,random_state=42)"
      ],
      "execution_count": null,
      "outputs": []
    },
    {
      "cell_type": "markdown",
      "metadata": {
        "id": "_dh-JNEw7U4I"
      },
      "source": [
        "# Nova seção"
      ]
    }
  ]
}