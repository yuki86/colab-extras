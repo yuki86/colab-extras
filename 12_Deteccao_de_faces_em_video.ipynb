{
  "nbformat": 4,
  "nbformat_minor": 0,
  "metadata": {
    "colab": {
      "name": "12 Deteccao de faces em video",
      "provenance": [],
      "authorship_tag": "ABX9TyMkjVe1n4Zbgwz3POSdIuOZ",
      "include_colab_link": true
    },
    "kernelspec": {
      "name": "python3",
      "display_name": "Python 3"
    }
  },
  "cells": [
    {
      "cell_type": "markdown",
      "metadata": {
        "id": "view-in-github",
        "colab_type": "text"
      },
      "source": [
        "<a href=\"https://colab.research.google.com/github/yuki86/colab-extras/blob/master/12_Deteccao_de_faces_em_video.ipynb\" target=\"_parent\"><img src=\"https://colab.research.google.com/assets/colab-badge.svg\" alt=\"Open In Colab\"/></a>"
      ]
    },
    {
      "cell_type": "code",
      "metadata": {
        "id": "GES2xvQUD5-C"
      },
      "source": [
        "import cv2\n",
        "\n",
        "def redim(img, largura): #função para redimensionar uma imagem\n",
        "  alt = int(img.shape[0]/img.shape[1]*largura)\n",
        "  img = cv2.resize(img, (largura, alt), interpolation = cv2.INTER_AREA)\n",
        "  return img\n",
        "\n",
        "#Cria o detector de faces baseado no XML\n",
        "df = cv2.CascadeClassifier('xml/haarcascade_frontalface_default.xml')\n",
        "\n",
        "#Abre um vídeo gravado em disco\n",
        "#camera = cv2.VideoCapture('video.mp4')\n",
        "\n",
        "#Também é possível abrir a próprio webcam\n",
        "#do sistema para isso segue código abaixo\n",
        "camera = cv2.VideoCapture(0)\n",
        "while True:\n",
        "  #read() retorna 1-Se houve sucesso e 2-O próprio frame\n",
        "  (sucesso, frame) = camera.read()\n",
        "  if not sucesso: #final do vídeo\n",
        "    break\n",
        "  #reduz tamanho do frame para acelerar processamento\n",
        "  frame = redim(frame, 320)\n",
        "  #converte para tons de cinza\n",
        "  frame_pb = cv2.cvtColor(frame, cv2.COLOR_BGR2GRAY)\n",
        "  #detecta as faces no frame\n",
        "  faces = df.detectMultiScale(frame_pb, scaleFactor = 1.1, minNeighbors=3, minSize=(20,20), flags=cv2.CASCADE_SCALE_IMAGE)\n",
        "  frame_temp = frame.copy()\n",
        "  for (x, y, lar, alt) in faces:\n",
        "    cv2.rectangle(frame_temp, (x, y), (x + lar, y + alt), (0, 255, 255), 2)\n",
        "  #Exibe um frame redimensionado (com perca de qualidade)\n",
        "  cv2.imshow(\"Encontrando faces...\", redim(frame_temp, 640))\n",
        "  #Espera que a tecla 's' seja pressionada para sair\n",
        "  if cv2.waitKey(1) & 0xFF == ord(\"s\"):\n",
        "    break\n",
        "#fecha streaming\n",
        "camera.release()\n",
        "cv2.destroyAllWindows()"
      ],
      "execution_count": null,
      "outputs": []
    }
  ]
}